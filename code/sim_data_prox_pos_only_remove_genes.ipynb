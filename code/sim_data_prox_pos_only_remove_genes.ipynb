{
 "cells": [
  {
   "cell_type": "markdown",
   "metadata": {},
   "source": [
    "# Load data"
   ]
  },
  {
   "cell_type": "markdown",
   "metadata": {},
   "source": [
    "## Read data"
   ]
  },
  {
   "cell_type": "code",
   "execution_count": 4,
   "metadata": {
    "vscode": {
     "languageId": "r"
    }
   },
   "outputs": [],
   "source": [
    "library(tidyverse)\n",
    "library(Seurat)\n",
    "library(sf)\n",
    "library(anndata)\n",
    "library(biomaRt)\n",
    "library(Matrix)\n",
    "library(BiocParallel)\n",
    "\n",
    "set.seed(42)"
   ]
  },
  {
   "cell_type": "code",
   "execution_count": 5,
   "metadata": {
    "vscode": {
     "languageId": "r"
    }
   },
   "outputs": [
    {
     "data": {
      "text/html": [
       "<table class=\"dataframe\">\n",
       "<caption>A data.frame: 6 x 7</caption>\n",
       "<thead>\n",
       "\t<tr><th></th><th scope=col>cell</th><th scope=col>x</th><th scope=col>y</th><th scope=col>elongation</th><th scope=col>area</th><th scope=col>srt_cell</th><th scope=col>radius</th></tr>\n",
       "\t<tr><th></th><th scope=col>&lt;chr&gt;</th><th scope=col>&lt;dbl&gt;</th><th scope=col>&lt;dbl&gt;</th><th scope=col>&lt;dbl&gt;</th><th scope=col>&lt;dbl&gt;</th><th scope=col>&lt;chr&gt;</th><th scope=col>&lt;dbl&gt;</th></tr>\n",
       "</thead>\n",
       "<tbody>\n",
       "\t<tr><th scope=row>1</th><td>AAACCCAAGGTAAGGA-1</td><td> 6589.351</td><td>18596.79</td><td> 2.833</td><td>1390.0</td><td>Sham_21413</td><td>21.03451</td></tr>\n",
       "\t<tr><th scope=row>2</th><td>AAACCCAAGTCCCAAT-1</td><td> 6706.731</td><td>13677.54</td><td> 4.263</td><td>1565.0</td><td>Sham_11856</td><td>22.31939</td></tr>\n",
       "\t<tr><th scope=row>3</th><td>AAACCCACACCCTTGT-1</td><td> 6332.787</td><td>13920.69</td><td> 1.300</td><td>1403.0</td><td>Sham_11605</td><td>21.13265</td></tr>\n",
       "\t<tr><th scope=row>4</th><td>AAACCCACACCGGAAA-1</td><td> 5329.179</td><td>14816.21</td><td>33.140</td><td> 517.4</td><td>Sham_11383</td><td>12.83330</td></tr>\n",
       "\t<tr><th scope=row>5</th><td>AAACCCACAGACGGAT-1</td><td>12377.961</td><td>19690.29</td><td> 1.846</td><td>6045.0</td><td>Sham_38551</td><td>43.86551</td></tr>\n",
       "\t<tr><th scope=row>6</th><td>AAACCCACAGTCGGTC-1</td><td>13846.138</td><td>18517.05</td><td> 5.112</td><td> 378.9</td><td>Sham_39301</td><td>10.98215</td></tr>\n",
       "</tbody>\n",
       "</table>\n"
      ],
      "text/latex": [
       "A data.frame: 6 x 7\n",
       "\\begin{tabular}{r|lllllll}\n",
       "  & cell & x & y & elongation & area & srt\\_cell & radius\\\\\n",
       "  & <chr> & <dbl> & <dbl> & <dbl> & <dbl> & <chr> & <dbl>\\\\\n",
       "\\hline\n",
       "\t1 & AAACCCAAGGTAAGGA-1 &  6589.351 & 18596.79 &  2.833 & 1390.0 & Sham\\_21413 & 21.03451\\\\\n",
       "\t2 & AAACCCAAGTCCCAAT-1 &  6706.731 & 13677.54 &  4.263 & 1565.0 & Sham\\_11856 & 22.31939\\\\\n",
       "\t3 & AAACCCACACCCTTGT-1 &  6332.787 & 13920.69 &  1.300 & 1403.0 & Sham\\_11605 & 21.13265\\\\\n",
       "\t4 & AAACCCACACCGGAAA-1 &  5329.179 & 14816.21 & 33.140 &  517.4 & Sham\\_11383 & 12.83330\\\\\n",
       "\t5 & AAACCCACAGACGGAT-1 & 12377.961 & 19690.29 &  1.846 & 6045.0 & Sham\\_38551 & 43.86551\\\\\n",
       "\t6 & AAACCCACAGTCGGTC-1 & 13846.138 & 18517.05 &  5.112 &  378.9 & Sham\\_39301 & 10.98215\\\\\n",
       "\\end{tabular}\n"
      ],
      "text/markdown": [
       "\n",
       "A data.frame: 6 x 7\n",
       "\n",
       "| <!--/--> | cell &lt;chr&gt; | x &lt;dbl&gt; | y &lt;dbl&gt; | elongation &lt;dbl&gt; | area &lt;dbl&gt; | srt_cell &lt;chr&gt; | radius &lt;dbl&gt; |\n",
       "|---|---|---|---|---|---|---|---|\n",
       "| 1 | AAACCCAAGGTAAGGA-1 |  6589.351 | 18596.79 |  2.833 | 1390.0 | Sham_21413 | 21.03451 |\n",
       "| 2 | AAACCCAAGTCCCAAT-1 |  6706.731 | 13677.54 |  4.263 | 1565.0 | Sham_11856 | 22.31939 |\n",
       "| 3 | AAACCCACACCCTTGT-1 |  6332.787 | 13920.69 |  1.300 | 1403.0 | Sham_11605 | 21.13265 |\n",
       "| 4 | AAACCCACACCGGAAA-1 |  5329.179 | 14816.21 | 33.140 |  517.4 | Sham_11383 | 12.83330 |\n",
       "| 5 | AAACCCACAGACGGAT-1 | 12377.961 | 19690.29 |  1.846 | 6045.0 | Sham_38551 | 43.86551 |\n",
       "| 6 | AAACCCACAGTCGGTC-1 | 13846.138 | 18517.05 |  5.112 |  378.9 | Sham_39301 | 10.98215 |\n",
       "\n"
      ],
      "text/plain": [
       "  cell               x         y        elongation area   srt_cell   radius  \n",
       "1 AAACCCAAGGTAAGGA-1  6589.351 18596.79  2.833     1390.0 Sham_21413 21.03451\n",
       "2 AAACCCAAGTCCCAAT-1  6706.731 13677.54  4.263     1565.0 Sham_11856 22.31939\n",
       "3 AAACCCACACCCTTGT-1  6332.787 13920.69  1.300     1403.0 Sham_11605 21.13265\n",
       "4 AAACCCACACCGGAAA-1  5329.179 14816.21 33.140      517.4 Sham_11383 12.83330\n",
       "5 AAACCCACAGACGGAT-1 12377.961 19690.29  1.846     6045.0 Sham_38551 43.86551\n",
       "6 AAACCCACAGTCGGTC-1 13846.138 18517.05  5.112      378.9 Sham_39301 10.98215"
      ]
     },
     "metadata": {},
     "output_type": "display_data"
    }
   ],
   "source": [
    "### Read data\n",
    "sc_meta <- read.csv('../sim_data/prox_assign/sc_meta.csv', row.names = 1)\n",
    "meta <- sc_meta %>%\n",
    "    mutate(radius = sqrt(area / pi))\n",
    "head(meta)\n",
    "mtx <- readRDS(\"../sim_data/prox_assign/mtx_500_genes.RDS\")"
   ]
  },
  {
   "cell_type": "markdown",
   "metadata": {},
   "source": [
    "# Simulate diffusion"
   ]
  },
  {
   "cell_type": "code",
   "execution_count": 6,
   "metadata": {
    "vscode": {
     "languageId": "r"
    }
   },
   "outputs": [],
   "source": [
    "simulate_ld_data <- function(mtx, meta, pct_out, min_dist, max_dist, n_cores) {\n",
    "  ## populate matrix with transcripts that will not suffer diffusion\n",
    "  nold_mtx <- mtx - round(mtx * pct_out)\n",
    "\n",
    "  ## sum ld genes with genes that did not ld\n",
    "  ld_mtx <- nold_mtx\n",
    "\n",
    "  return(ld_mtx)\n",
    "}"
   ]
  },
  {
   "cell_type": "markdown",
   "metadata": {},
   "source": [
    "## Simulate datasets"
   ]
  },
  {
   "cell_type": "markdown",
   "metadata": {},
   "source": [
    "### Percentage"
   ]
  },
  {
   "cell_type": "code",
   "execution_count": 8,
   "metadata": {
    "vscode": {
     "languageId": "r"
    }
   },
   "outputs": [],
   "source": [
    "pcts <- c(.01, seq(.02, .2, length.out = 10), .3, .4, .5)\n",
    "for (pct in pcts){\n",
    "  ld_mtx <- simulate_ld_data(mtx, meta, pct, 1, 2, 5)\n",
    "  saveRDS(ld_mtx, paste0('../sim_data/prox_assign/ld_mtx_only_remove_', 100*pct ,'pct_parallelized.RDS'))\n",
    "}"
   ]
  }
 ],
 "metadata": {
  "kernelspec": {
   "display_name": "R",
   "language": "R",
   "name": "ir"
  },
  "language_info": {
   "codemirror_mode": "r",
   "file_extension": ".r",
   "mimetype": "text/x-r-source",
   "name": "R",
   "pygments_lexer": "r",
   "version": "4.3.0"
  }
 },
 "nbformat": 4,
 "nbformat_minor": 2
}
