{
 "cells": [
  {
   "cell_type": "markdown",
   "metadata": {},
   "source": [
    "# Load data"
   ]
  },
  {
   "cell_type": "markdown",
   "metadata": {},
   "source": [
    "## Read data"
   ]
  },
  {
   "cell_type": "code",
   "execution_count": 2,
   "metadata": {
    "vscode": {
     "languageId": "r"
    }
   },
   "outputs": [],
   "source": [
    "library(tidyverse)\n",
    "library(Seurat)\n",
    "library(sf)\n",
    "library(anndata)\n",
    "set.seed(42)"
   ]
  },
  {
   "cell_type": "code",
   "execution_count": 3,
   "metadata": {
    "vscode": {
     "languageId": "r"
    }
   },
   "outputs": [],
   "source": [
    "## read sc counts from MS1 (there are three)\n",
    "sc_mtx <- Read10X_h5('../original_data/single_cell/Kidney_MS_1.h5')\n",
    "\n",
    "## read srt counts\n",
    "srt_mtx <- Matrix::readMM('../original_data/male_cartana/male_ctx.mtx')\n",
    "rownames(srt_mtx) <- read.csv('../original_data/male_cartana/male_genes.csv', \n",
    "                              header = F) %>% \n",
    "  pull(V1)\n",
    "colnames(srt_mtx) <- read.csv('../original_data/male_cartana/male_cells.csv', \n",
    "                              header = F) %>% \n",
    "  pull(V1)\n",
    "## read srt metadata\n",
    "srt_meta <- read.csv('../original_data/male_cartana/male_meta.csv') %>% \n",
    "  select(!X)"
   ]
  },
  {
   "cell_type": "code",
   "execution_count": 9,
   "metadata": {
    "vscode": {
     "languageId": "r"
    }
   },
   "outputs": [],
   "source": [
    "sc_meta <- read.csv('../sim_data/prox_assign/sc_meta.csv', row.names = 1)"
   ]
  },
  {
   "cell_type": "markdown",
   "metadata": {},
   "source": [
    "# Cluster\n",
    "\n",
    "I tried to use Azimuth to do automatic annotation, but the app said the results were not good."
   ]
  }
 ],
 "metadata": {
  "kernelspec": {
   "display_name": "R",
   "language": "R",
   "name": "ir"
  },
  "language_info": {
   "codemirror_mode": "r",
   "file_extension": ".r",
   "mimetype": "text/x-r-source",
   "name": "R",
   "pygments_lexer": "r",
   "version": "4.3.0"
  }
 },
 "nbformat": 4,
 "nbformat_minor": 2
}
