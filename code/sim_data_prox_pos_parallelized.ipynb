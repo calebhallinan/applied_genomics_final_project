{
 "cells": [
  {
   "cell_type": "markdown",
   "metadata": {},
   "source": [
    "# Load data"
   ]
  },
  {
   "cell_type": "markdown",
   "metadata": {},
   "source": [
    "## Read data"
   ]
  },
  {
   "cell_type": "code",
   "execution_count": 2,
   "metadata": {
    "vscode": {
     "languageId": "r"
    }
   },
   "outputs": [],
   "source": [
    "library(tidyverse)\n",
    "library(Seurat)\n",
    "library(sf)\n",
    "library(anndata)\n",
    "library(biomaRt)\n",
    "library(Matrix)\n",
    "library(BiocParallel)\n",
    "\n",
    "set.seed(42)"
   ]
  },
  {
   "cell_type": "code",
   "execution_count": 3,
   "metadata": {
    "vscode": {
     "languageId": "r"
    }
   },
   "outputs": [
    {
     "data": {
      "text/html": [
       "<table class=\"dataframe\">\n",
       "<caption>A data.frame: 6 × 7</caption>\n",
       "<thead>\n",
       "\t<tr><th></th><th scope=col>cell</th><th scope=col>x</th><th scope=col>y</th><th scope=col>elongation</th><th scope=col>area</th><th scope=col>srt_cell</th><th scope=col>radius</th></tr>\n",
       "\t<tr><th></th><th scope=col>&lt;chr&gt;</th><th scope=col>&lt;dbl&gt;</th><th scope=col>&lt;dbl&gt;</th><th scope=col>&lt;dbl&gt;</th><th scope=col>&lt;dbl&gt;</th><th scope=col>&lt;chr&gt;</th><th scope=col>&lt;dbl&gt;</th></tr>\n",
       "</thead>\n",
       "<tbody>\n",
       "\t<tr><th scope=row>1</th><td>AAACCCAAGGTAAGGA-1</td><td> 6589.351</td><td>18596.79</td><td> 2.833</td><td>1390.0</td><td>Sham_21413</td><td>21.03451</td></tr>\n",
       "\t<tr><th scope=row>2</th><td>AAACCCAAGTCCCAAT-1</td><td> 6706.731</td><td>13677.54</td><td> 4.263</td><td>1565.0</td><td>Sham_11856</td><td>22.31939</td></tr>\n",
       "\t<tr><th scope=row>3</th><td>AAACCCACACCCTTGT-1</td><td> 6332.787</td><td>13920.69</td><td> 1.300</td><td>1403.0</td><td>Sham_11605</td><td>21.13265</td></tr>\n",
       "\t<tr><th scope=row>4</th><td>AAACCCACACCGGAAA-1</td><td> 5329.179</td><td>14816.21</td><td>33.140</td><td> 517.4</td><td>Sham_11383</td><td>12.83330</td></tr>\n",
       "\t<tr><th scope=row>5</th><td>AAACCCACAGACGGAT-1</td><td>12377.961</td><td>19690.29</td><td> 1.846</td><td>6045.0</td><td>Sham_38551</td><td>43.86551</td></tr>\n",
       "\t<tr><th scope=row>6</th><td>AAACCCACAGTCGGTC-1</td><td>13846.138</td><td>18517.05</td><td> 5.112</td><td> 378.9</td><td>Sham_39301</td><td>10.98215</td></tr>\n",
       "</tbody>\n",
       "</table>\n"
      ],
      "text/latex": [
       "A data.frame: 6 × 7\n",
       "\\begin{tabular}{r|lllllll}\n",
       "  & cell & x & y & elongation & area & srt\\_cell & radius\\\\\n",
       "  & <chr> & <dbl> & <dbl> & <dbl> & <dbl> & <chr> & <dbl>\\\\\n",
       "\\hline\n",
       "\t1 & AAACCCAAGGTAAGGA-1 &  6589.351 & 18596.79 &  2.833 & 1390.0 & Sham\\_21413 & 21.03451\\\\\n",
       "\t2 & AAACCCAAGTCCCAAT-1 &  6706.731 & 13677.54 &  4.263 & 1565.0 & Sham\\_11856 & 22.31939\\\\\n",
       "\t3 & AAACCCACACCCTTGT-1 &  6332.787 & 13920.69 &  1.300 & 1403.0 & Sham\\_11605 & 21.13265\\\\\n",
       "\t4 & AAACCCACACCGGAAA-1 &  5329.179 & 14816.21 & 33.140 &  517.4 & Sham\\_11383 & 12.83330\\\\\n",
       "\t5 & AAACCCACAGACGGAT-1 & 12377.961 & 19690.29 &  1.846 & 6045.0 & Sham\\_38551 & 43.86551\\\\\n",
       "\t6 & AAACCCACAGTCGGTC-1 & 13846.138 & 18517.05 &  5.112 &  378.9 & Sham\\_39301 & 10.98215\\\\\n",
       "\\end{tabular}\n"
      ],
      "text/markdown": [
       "\n",
       "A data.frame: 6 × 7\n",
       "\n",
       "| <!--/--> | cell &lt;chr&gt; | x &lt;dbl&gt; | y &lt;dbl&gt; | elongation &lt;dbl&gt; | area &lt;dbl&gt; | srt_cell &lt;chr&gt; | radius &lt;dbl&gt; |\n",
       "|---|---|---|---|---|---|---|---|\n",
       "| 1 | AAACCCAAGGTAAGGA-1 |  6589.351 | 18596.79 |  2.833 | 1390.0 | Sham_21413 | 21.03451 |\n",
       "| 2 | AAACCCAAGTCCCAAT-1 |  6706.731 | 13677.54 |  4.263 | 1565.0 | Sham_11856 | 22.31939 |\n",
       "| 3 | AAACCCACACCCTTGT-1 |  6332.787 | 13920.69 |  1.300 | 1403.0 | Sham_11605 | 21.13265 |\n",
       "| 4 | AAACCCACACCGGAAA-1 |  5329.179 | 14816.21 | 33.140 |  517.4 | Sham_11383 | 12.83330 |\n",
       "| 5 | AAACCCACAGACGGAT-1 | 12377.961 | 19690.29 |  1.846 | 6045.0 | Sham_38551 | 43.86551 |\n",
       "| 6 | AAACCCACAGTCGGTC-1 | 13846.138 | 18517.05 |  5.112 |  378.9 | Sham_39301 | 10.98215 |\n",
       "\n"
      ],
      "text/plain": [
       "  cell               x         y        elongation area   srt_cell   radius  \n",
       "1 AAACCCAAGGTAAGGA-1  6589.351 18596.79  2.833     1390.0 Sham_21413 21.03451\n",
       "2 AAACCCAAGTCCCAAT-1  6706.731 13677.54  4.263     1565.0 Sham_11856 22.31939\n",
       "3 AAACCCACACCCTTGT-1  6332.787 13920.69  1.300     1403.0 Sham_11605 21.13265\n",
       "4 AAACCCACACCGGAAA-1  5329.179 14816.21 33.140      517.4 Sham_11383 12.83330\n",
       "5 AAACCCACAGACGGAT-1 12377.961 19690.29  1.846     6045.0 Sham_38551 43.86551\n",
       "6 AAACCCACAGTCGGTC-1 13846.138 18517.05  5.112      378.9 Sham_39301 10.98215"
      ]
     },
     "metadata": {},
     "output_type": "display_data"
    }
   ],
   "source": [
    "### Read data\n",
    "sc_meta <- read.csv('../sim_data/prox_assign/sc_meta.csv', row.names = 1)\n",
    "meta <- sc_meta %>%\n",
    "    mutate(radius = sqrt(area / pi))\n",
    "head(meta)\n",
    "mtx <- readRDS(\"../sim_data/prox_assign/mtx_500_genes.RDS\")"
   ]
  },
  {
   "cell_type": "markdown",
   "metadata": {},
   "source": [
    "# Simulate diffusion"
   ]
  },
  {
   "cell_type": "code",
   "execution_count": 4,
   "metadata": {
    "vscode": {
     "languageId": "r"
    }
   },
   "outputs": [],
   "source": [
    "## for every chunk\n",
    "simulate_transcripts <- function(args) {\n",
    "  mtx_chunk <- args[[1]]\n",
    "  meta_chunk <- args[[2]]\n",
    "  pct_out <- args[[3]]\n",
    "  min_dist <- args[[4]]\n",
    "  max_dist <- args[[5]]\n",
    "  ## create df with transcript coordinates represented by the cell center\n",
    "  transcripts <- data.frame()\n",
    "  ## for every cell\n",
    "  for (i in 1:dim(meta_chunk)[1]) {\n",
    "    cell <- meta_chunk[i, ]\n",
    "    cell_id <- cell$cell\n",
    "    ## get expressed transcripts \n",
    "    ts <- mtx_chunk[which(mtx_chunk[, cell_id] > 0), cell_id]\n",
    "    ## calculate transcripts outside and inside the cell\n",
    "    ts_out <- round(ts * pct_out)\n",
    "    ## calculate positions of the transcripts outside\n",
    "    r <- sqrt(cell$area / pi)\n",
    "    for (ts_name in names(ts_out)) {\n",
    "      if (ts_out[ts_name] > 0) {\n",
    "        for (j in 1:ts_out[ts_name]){\n",
    "          ## generate random position for transcript given cell centroid\n",
    "          ## calculate angle\n",
    "          theta <- runif(1, 0, 2*pi)\n",
    "          ## calculate distance\n",
    "          d <- runif(1, r * min_dist, r * max_dist)\n",
    "          x <- cell$x + d * cos(theta)\n",
    "          y <- cell$y + d * sin(theta)\n",
    "          ## add to dataframe\n",
    "          transcripts <- rbind(transcripts, c(ts_name, x, y, cell_id))\n",
    "        }\n",
    "      }\n",
    "    }\n",
    "  }\n",
    "  colnames(transcripts) <- c('gene', 'x', 'y', 'orig_cell')\n",
    "  transcripts <- transcripts %>% \n",
    "    mutate(x = as.numeric(x), y = as.numeric(y))\n",
    "  return(transcripts)\n",
    "}\n",
    "\n",
    "## intersect transcripts with cells\n",
    "## for each cell, calculate intersection\n",
    "interesect_transcripts <- function(args){\n",
    "  meta_chunk <- args[[1]]\n",
    "  transcripts <- args[[2]]\n",
    "  mtx <- args[[3]]\n",
    "  ## create empty mtx\n",
    "  sim_mtx <- Matrix::sparseMatrix(dim(mtx)[1],\n",
    "    dim(mtx)[2],\n",
    "    x = 0\n",
    "  )\n",
    "  rownames(sim_mtx) <- rownames(mtx)\n",
    "  colnames(sim_mtx) <- colnames(mtx)\n",
    "  ## for each cell\n",
    "  for (i in 1:dim(meta_chunk)[1]) {\n",
    "    cell <- meta_chunk[i, ]\n",
    "    ## intersect genes with cell\n",
    "    ## filter genes near to speed the process\n",
    "    near_transcripts <- transcripts %>% \n",
    "      mutate(distance = sqrt((x - cell$x)^2 + (y - cell$y)^2)) %>% \n",
    "      filter(distance <= cell$radius)\n",
    "    ## if no genes are near, just skip\n",
    "    if (dim(near_transcripts)[1] > 0) {\n",
    "      genes_in <- near_transcripts$gene\n",
    "      ## add the number of copies to the sim matrix\n",
    "      count_genes_in <- table(genes_in)\n",
    "      for (ts_name in names(count_genes_in)) {\n",
    "        sim_mtx[ts_name, cell$cell] <- count_genes_in[ts_name]\n",
    "      }\n",
    "    }\n",
    "  }\n",
    "  return(sim_mtx)\n",
    "}"
   ]
  },
  {
   "cell_type": "code",
   "execution_count": 5,
   "metadata": {
    "vscode": {
     "languageId": "r"
    }
   },
   "outputs": [],
   "source": [
    "simulate_ld_data <- function(mtx, meta, pct_out, min_dist, max_dist, n_cores) {\n",
    "  ## populate matrix with transcripts that will not suffer diffusion\n",
    "  nold_mtx <- mtx - round(mtx * pct_out)\n",
    "\n",
    "  ## separate mtx and meta into chunks\n",
    "  n_chunks <- 50\n",
    "  cells_per_chunck <- ceiling(ncol(mtx) / n_chunks)\n",
    "  ## mtx\n",
    "  submatrices <- list()\n",
    "  for (i in 1:(n_chunks - 1)) {\n",
    "    start_col <- (i - 1) * cells_per_chunck + 1\n",
    "    end_col <- i * cells_per_chunck\n",
    "    submatrix <- mtx[, start_col:end_col]\n",
    "    submatrices[[i]] <- submatrix\n",
    "  }\n",
    "  submatrices[[n_chunks]] <- mtx[, ((n_chunks - 1) * cells_per_chunck):ncol(mtx)]\n",
    "  ## meta\n",
    "  subdfs <- list()\n",
    "  for (i in 1:(n_chunks - 1)) {\n",
    "    start_col <- (i - 1) * cells_per_chunck + 1\n",
    "    end_col <- i * cells_per_chunck\n",
    "    subdf <- meta[start_col:end_col, ]\n",
    "    subdfs[[i]] <- subdf\n",
    "  }\n",
    "  subdfs[[n_chunks]] <- meta[((n_chunks - 1) * cells_per_chunck):nrow(meta), ]\n",
    "\n",
    "  ## join into list\n",
    "  arguments <- lapply(1:n_chunks, FUN = function(i) {\n",
    "    list(submatrices[[i]], subdfs[[i]], pct_out, min_dist, max_dist)\n",
    "  })\n",
    "\n",
    "  ## run parallelization\n",
    "  bpparam <- MulticoreParam(workers = n_chunks)\n",
    "  transcripts_list <- bplapply(arguments, simulate_transcripts, BPPARAM = bpparam)\n",
    "  ## join dataframes\n",
    "  transcripts <- bind_rows(transcripts_list)\n",
    "\n",
    "  ## join into list\n",
    "  arguments <- lapply(1:n_chunks, FUN = function(i) {\n",
    "    list(subdfs[[i]], transcripts, mtx)\n",
    "  })\n",
    "\n",
    "  ## run parallelization\n",
    "  bpparam <- MulticoreParam(workers = n_chunks)\n",
    "  mtxs_list <- bplapply(arguments, interesect_transcripts, BPPARAM = bpparam)\n",
    "  ## kachow\n",
    "  sum_mtx <- Reduce(\"+\", mtxs_list)\n",
    "\n",
    "  ## sum ld genes with genes that did not ld\n",
    "  ld_mtx <- nold_mtx + sum_mtx\n",
    "\n",
    "  return(ld_mtx)\n",
    "}"
   ]
  },
  {
   "cell_type": "markdown",
   "metadata": {},
   "source": [
    "## Simulate datasets"
   ]
  },
  {
   "cell_type": "markdown",
   "metadata": {},
   "source": [
    "### Percentage"
   ]
  },
  {
   "cell_type": "code",
   "execution_count": null,
   "metadata": {
    "vscode": {
     "languageId": "r"
    }
   },
   "outputs": [],
   "source": [
    "pcts <- c(.01, seq(.02, .2, length.out = 10), .3, .4, .5)\n",
    "for (pct in pcts){\n",
    "  ld_mtx <- simulate_ld_data(mtx, meta, .05, 1, 2, 50)\n",
    "  saveRDS(ld_mtx, paste0('../sim_data/prox_assign/ld_mtx_', 100*pct ,'pct_parallelized.RDS'))\n",
    "}"
   ]
  },
  {
   "cell_type": "code",
   "execution_count": null,
   "metadata": {
    "vscode": {
     "languageId": "r"
    }
   },
   "outputs": [
    {
     "data": {
      "text/html": [
       "FALSE"
      ],
      "text/latex": [
       "FALSE"
      ],
      "text/markdown": [
       "FALSE"
      ],
      "text/plain": [
       "[1] FALSE"
      ]
     },
     "metadata": {},
     "output_type": "display_data"
    }
   ],
   "source": [
    "# ld_mtx <- simulate_ld_data(mtx, meta, .05, 1, 2, 50)\n",
    "# all(ld_mtx == mtx)\n",
    "# saveRDS(ld_mtx, '../sim_data/prox_assign/ld_mtx_5pct_parallelized.RDS')"
   ]
  },
  {
   "cell_type": "code",
   "execution_count": null,
   "metadata": {
    "vscode": {
     "languageId": "r"
    }
   },
   "outputs": [
    {
     "data": {
      "text/html": [
       "FALSE"
      ],
      "text/latex": [
       "FALSE"
      ],
      "text/markdown": [
       "FALSE"
      ],
      "text/plain": [
       "[1] FALSE"
      ]
     },
     "metadata": {},
     "output_type": "display_data"
    }
   ],
   "source": [
    "# ld_mtx <- simulate_ld_data(mtx, meta, .1, 1, 2, 50)\n",
    "# all(ld_mtx == mtx)\n",
    "# saveRDS(ld_mtx, '../sim_data/prox_assign/ld_mtx_10pct_parallelized.RDS')"
   ]
  },
  {
   "cell_type": "code",
   "execution_count": null,
   "metadata": {
    "vscode": {
     "languageId": "r"
    }
   },
   "outputs": [
    {
     "data": {
      "text/html": [
       "FALSE"
      ],
      "text/latex": [
       "FALSE"
      ],
      "text/markdown": [
       "FALSE"
      ],
      "text/plain": [
       "[1] FALSE"
      ]
     },
     "metadata": {},
     "output_type": "display_data"
    }
   ],
   "source": [
    "# ld_mtx <- simulate_ld_data(mtx, meta, .2, 1, 2, 50)\n",
    "# all(ld_mtx == mtx)\n",
    "# saveRDS(ld_mtx, '../sim_data/prox_assign/ld_mtx_20pct_parallelized.RDS')"
   ]
  },
  {
   "cell_type": "code",
   "execution_count": null,
   "metadata": {
    "vscode": {
     "languageId": "r"
    }
   },
   "outputs": [
    {
     "data": {
      "text/html": [
       "FALSE"
      ],
      "text/latex": [
       "FALSE"
      ],
      "text/markdown": [
       "FALSE"
      ],
      "text/plain": [
       "[1] FALSE"
      ]
     },
     "metadata": {},
     "output_type": "display_data"
    }
   ],
   "source": [
    "# ld_mtx <- simulate_ld_data(mtx, meta, .5, 1, 2, 50)\n",
    "# all(ld_mtx == mtx)\n",
    "# saveRDS(ld_mtx, '../sim_data/prox_assign/ld_mtx_50pct_parallelized.RDS')"
   ]
  },
  {
   "cell_type": "markdown",
   "metadata": {},
   "source": [
    "Check if code is actually doing something."
   ]
  },
  {
   "cell_type": "code",
   "execution_count": 32,
   "metadata": {
    "vscode": {
     "languageId": "r"
    }
   },
   "outputs": [
    {
     "data": {
      "text/html": [
       "<span style=white-space:pre-wrap>'0.390971879712588    0    2976    0    344070'</span>"
      ],
      "text/latex": [
       "'0.390971879712588    0    2976    0    344070'"
      ],
      "text/markdown": [
       "<span style=white-space:pre-wrap>'0.390971879712588    0    2976    0    344070'</span>"
      ],
      "text/plain": [
       "[1] \"0.390971879712588    0    2976    0    344070\""
      ]
     },
     "metadata": {},
     "output_type": "display_data"
    }
   ],
   "source": [
    "## get stats for original mtx\n",
    "paste(mean(mtx), median(mtx), max(mtx), min(mtx), sum(mtx > 0), sep = '    ')"
   ]
  },
  {
   "cell_type": "code",
   "execution_count": 33,
   "metadata": {
    "vscode": {
     "languageId": "r"
    }
   },
   "outputs": [
    {
     "data": {
      "text/html": [
       "<span style=white-space:pre-wrap>'0.387295839616783    0    2827    0    351117'</span>"
      ],
      "text/latex": [
       "'0.387295839616783    0    2827    0    351117'"
      ],
      "text/markdown": [
       "<span style=white-space:pre-wrap>'0.387295839616783    0    2827    0    351117'</span>"
      ],
      "text/plain": [
       "[1] \"0.387295839616783    0    2827    0    351117\""
      ]
     },
     "metadata": {},
     "output_type": "display_data"
    }
   ],
   "source": [
    "## stats for 1 pct\n",
    "ld_mtx <- readRDS('../sim_data/prox_assign/ld_mtx_5pct_parallelized.RDS')\n",
    "paste(mean(ld_mtx), median(ld_mtx), max(ld_mtx), min(ld_mtx),\n",
    "  sum(ld_mtx > 0), sep = '    ')"
   ]
  },
  {
   "cell_type": "code",
   "execution_count": 34,
   "metadata": {
    "vscode": {
     "languageId": "r"
    }
   },
   "outputs": [
    {
     "data": {
      "text/html": [
       "2827.2"
      ],
      "text/latex": [
       "2827.2"
      ],
      "text/markdown": [
       "2827.2"
      ],
      "text/plain": [
       "[1] 2827.2"
      ]
     },
     "metadata": {},
     "output_type": "display_data"
    }
   ],
   "source": [
    "max(mtx) * .95"
   ]
  },
  {
   "cell_type": "markdown",
   "metadata": {},
   "source": [
    "The transcript with the highest count in one cell actually lost 5% of the transcrips, as expected. However, the average count increased and the number of zero counts was reduced, probably due to double counting."
   ]
  },
  {
   "cell_type": "code",
   "execution_count": 35,
   "metadata": {
    "vscode": {
     "languageId": "r"
    }
   },
   "outputs": [
    {
     "data": {
      "text/html": [
       "<span style=white-space:pre-wrap>'195.485939856294    43    6584    1    11273'</span>"
      ],
      "text/latex": [
       "'195.485939856294    43    6584    1    11273'"
      ],
      "text/markdown": [
       "<span style=white-space:pre-wrap>'195.485939856294    43    6584    1    11273'</span>"
      ],
      "text/plain": [
       "[1] \"195.485939856294    43    6584    1    11273\""
      ]
     },
     "metadata": {},
     "output_type": "display_data"
    }
   ],
   "source": [
    "## stats per cell\n",
    "counts_per_cell <- colSums(mtx)\n",
    "paste(mean(counts_per_cell), median(counts_per_cell), \n",
    "  max(counts_per_cell), min(counts_per_cell),\n",
    "  sum(counts_per_cell > 0), sep = '    ')"
   ]
  },
  {
   "cell_type": "code",
   "execution_count": 36,
   "metadata": {
    "vscode": {
     "languageId": "r"
    }
   },
   "outputs": [
    {
     "data": {
      "text/html": [
       "<span style=white-space:pre-wrap>'193.647919808392    45    6254    1    11273'</span>"
      ],
      "text/latex": [
       "'193.647919808392    45    6254    1    11273'"
      ],
      "text/markdown": [
       "<span style=white-space:pre-wrap>'193.647919808392    45    6254    1    11273'</span>"
      ],
      "text/plain": [
       "[1] \"193.647919808392    45    6254    1    11273\""
      ]
     },
     "metadata": {},
     "output_type": "display_data"
    }
   ],
   "source": [
    "## sim data\n",
    "counts_per_cell <- colSums(ld_mtx)\n",
    "paste(mean(counts_per_cell), median(counts_per_cell), \n",
    "  max(counts_per_cell), min(counts_per_cell),\n",
    "  sum(counts_per_cell > 0), sep = '    ')"
   ]
  },
  {
   "cell_type": "markdown",
   "metadata": {},
   "source": [
    "Same results as before."
   ]
  },
  {
   "cell_type": "code",
   "execution_count": 37,
   "metadata": {
    "vscode": {
     "languageId": "r"
    }
   },
   "outputs": [
    {
     "data": {
      "image/png": "[encoded data removed]",
      "text/plain": [
       "Plot with title “Histogram of counts_per_cell”"
      ]
     },
     "metadata": {
      "image/png": {
       "height": 420,
       "width": 420
      }
     },
     "output_type": "display_data"
    }
   ],
   "source": [
    "counts_per_cell <- colSums(mtx)\n",
    "hist(counts_per_cell, breaks = 100)"
   ]
  },
  {
   "cell_type": "code",
   "execution_count": 38,
   "metadata": {
    "vscode": {
     "languageId": "r"
    }
   },
   "outputs": [
    {
     "data": {
      "image/png": "[encoded data removed]",
      "text/plain": [
       "Plot with title “Histogram of counts_per_cell”"
      ]
     },
     "metadata": {
      "image/png": {
       "height": 420,
       "width": 420
      }
     },
     "output_type": "display_data"
    }
   ],
   "source": [
    "counts_per_cell <- colSums(ld_mtx)\n",
    "hist(counts_per_cell, breaks = 100)"
   ]
  },
  {
   "cell_type": "markdown",
   "metadata": {},
   "source": [
    "### Max distance"
   ]
  },
  {
   "cell_type": "code",
   "execution_count": 39,
   "metadata": {
    "vscode": {
     "languageId": "r"
    }
   },
   "outputs": [
    {
     "data": {
      "text/html": [
       "FALSE"
      ],
      "text/latex": [
       "FALSE"
      ],
      "text/markdown": [
       "FALSE"
      ],
      "text/plain": [
       "[1] FALSE"
      ]
     },
     "metadata": {},
     "output_type": "display_data"
    }
   ],
   "source": [
    "ld_mtx <- simulate_ld_data(mtx, meta, .2, 1, 1.1, 50)\n",
    "all(ld_mtx == mtx)\n",
    "saveRDS(ld_mtx, '../sim_data/prox_assign/ld_mtx_1p1max_parallelized.RDS')"
   ]
  },
  {
   "cell_type": "code",
   "execution_count": 40,
   "metadata": {
    "vscode": {
     "languageId": "r"
    }
   },
   "outputs": [
    {
     "data": {
      "text/html": [
       "FALSE"
      ],
      "text/latex": [
       "FALSE"
      ],
      "text/markdown": [
       "FALSE"
      ],
      "text/plain": [
       "[1] FALSE"
      ]
     },
     "metadata": {},
     "output_type": "display_data"
    }
   ],
   "source": [
    "ld_mtx <- simulate_ld_data(mtx, meta, .2, 1, 1.5, 50)\n",
    "all(ld_mtx == mtx)\n",
    "saveRDS(ld_mtx, '../sim_data/prox_assign/ld_mtx_1p5max_parallelized.RDS')"
   ]
  },
  {
   "cell_type": "code",
   "execution_count": 41,
   "metadata": {
    "vscode": {
     "languageId": "r"
    }
   },
   "outputs": [
    {
     "data": {
      "text/html": [
       "FALSE"
      ],
      "text/latex": [
       "FALSE"
      ],
      "text/markdown": [
       "FALSE"
      ],
      "text/plain": [
       "[1] FALSE"
      ]
     },
     "metadata": {},
     "output_type": "display_data"
    }
   ],
   "source": [
    "ld_mtx <- simulate_ld_data(mtx, meta, .2, 1, 2, 50)\n",
    "all(ld_mtx == mtx)\n",
    "saveRDS(ld_mtx, '../sim_data/prox_assign/ld_mtx_2max_parallelized.RDS')"
   ]
  },
  {
   "cell_type": "code",
   "execution_count": 42,
   "metadata": {
    "vscode": {
     "languageId": "r"
    }
   },
   "outputs": [
    {
     "data": {
      "text/html": [
       "FALSE"
      ],
      "text/latex": [
       "FALSE"
      ],
      "text/markdown": [
       "FALSE"
      ],
      "text/plain": [
       "[1] FALSE"
      ]
     },
     "metadata": {},
     "output_type": "display_data"
    }
   ],
   "source": [
    "ld_mtx <- simulate_ld_data(mtx, meta, .2, 1, 5, 50)\n",
    "all(ld_mtx == mtx)\n",
    "saveRDS(ld_mtx, '../sim_data/prox_assign/ld_mtx_5max_parallelized.RDS')"
   ]
  },
  {
   "cell_type": "code",
   "execution_count": 43,
   "metadata": {
    "vscode": {
     "languageId": "r"
    }
   },
   "outputs": [
    {
     "data": {
      "text/html": [
       "FALSE"
      ],
      "text/latex": [
       "FALSE"
      ],
      "text/markdown": [
       "FALSE"
      ],
      "text/plain": [
       "[1] FALSE"
      ]
     },
     "metadata": {},
     "output_type": "display_data"
    }
   ],
   "source": [
    "ld_mtx <- simulate_ld_data(mtx, meta, .2, 1, 25, 50)\n",
    "all(ld_mtx == mtx)\n",
    "saveRDS(ld_mtx, '../sim_data/prox_assign/ld_mtx_25max_parallelized.RDS')"
   ]
  }
 ],
 "metadata": {
  "kernelspec": {
   "display_name": "R",
   "language": "R",
   "name": "ir"
  },
  "language_info": {
   "codemirror_mode": "r",
   "file_extension": ".r",
   "mimetype": "text/x-r-source",
   "name": "R",
   "pygments_lexer": "r",
   "version": "4.3.3"
  }
 },
 "nbformat": 4,
 "nbformat_minor": 2
}
